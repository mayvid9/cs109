{
 "cells": [
  {
   "cell_type": "code",
   "execution_count": 1,
   "metadata": {},
   "outputs": [],
   "source": [
    "%matplotlib inline \n",
    "\n",
    "import requests \n",
    "import io\n",
    "import numpy as np\n",
    "import pandas as pd # pandas\n",
    "import matplotlib.pyplot as plt # module for plotting \n",
    "import datetime as dt # module for manipulating dates and times\n",
    "import numpy.linalg as lin # module for performing linear algebra operations"
   ]
  },
  {
   "cell_type": "markdown",
   "metadata": {},
   "source": [
    "### Problem 1\n",
    "In this problem we will be using a gene expression data set obtained from a microarray experiement Read more about the specific experiment here. There are two data sets we will use:\n",
    "\n",
    "The gene expression intensities where the rows represent the features on the microarray (e.g. genes) and the columsns represent the different microarray samples.\n",
    "\n",
    "A table that contains the information about each of the samples (columns in the gene expression data set) such as the sex, the age, the treatment status, the date the samples were processed. Each row represents one sample."
   ]
  },
  {
   "cell_type": "markdown",
   "metadata": {},
   "source": [
    "#### Problem 1(a)\n",
    "Read in the two files from Github: exprs_GSE5859.csv and sampleinfo_GSE5859.csv as pandas DataFrames called exprs and sampleinfo. Use the gene names as the index of the exprs DataFrame."
   ]
  },
  {
   "cell_type": "code",
   "execution_count": 2,
   "metadata": {},
   "outputs": [],
   "source": [
    "url_exprs = \"https://raw.githubusercontent.com/cs109/2014_data/master/exprs_GSE5859.csv\"\n",
    "exprs = pd.read_csv(url_exprs, index_col=0)\n",
    "\n",
    "url_sampleinfo = \"https://raw.githubusercontent.com/cs109/2014_data/master/sampleinfo_GSE5859.csv\"\n",
    "sampleinfo = pd.read_csv(url_sampleinfo)"
   ]
  },
  {
   "cell_type": "markdown",
   "metadata": {},
   "source": [
    "Make sure the order of the columns in the gene expression DataFrame match the order of file names in the sample annotation DataFrame. If the order of the columns the exprs DataFrame do not match the order of the file names in the sampleinfo DataFrame, reorder the columns in the exprs DataFrame.\n",
    "\n",
    "Note: The column names of the gene expression DataFrame are the filenames of the orignal files from which these data were obtained."
   ]
  },
  {
   "cell_type": "code",
   "execution_count": 3,
   "metadata": {},
   "outputs": [
    {
     "data": {
      "text/html": [
       "<div>\n",
       "<style scoped>\n",
       "    .dataframe tbody tr th:only-of-type {\n",
       "        vertical-align: middle;\n",
       "    }\n",
       "\n",
       "    .dataframe tbody tr th {\n",
       "        vertical-align: top;\n",
       "    }\n",
       "\n",
       "    .dataframe thead th {\n",
       "        text-align: right;\n",
       "    }\n",
       "</style>\n",
       "<table border=\"1\" class=\"dataframe\">\n",
       "  <thead>\n",
       "    <tr style=\"text-align: right;\">\n",
       "      <th></th>\n",
       "      <th>GSM25581.CEL.gz</th>\n",
       "      <th>GSM25681.CEL.gz</th>\n",
       "      <th>GSM136524.CEL.gz</th>\n",
       "      <th>GSM136707.CEL.gz</th>\n",
       "      <th>GSM25553.CEL.gz</th>\n",
       "      <th>GSM136676.CEL.gz</th>\n",
       "      <th>GSM136711.CEL.gz</th>\n",
       "      <th>GSM136542.CEL.gz</th>\n",
       "      <th>GSM136535.CEL.gz</th>\n",
       "      <th>GSM25399.CEL.gz</th>\n",
       "      <th>...</th>\n",
       "      <th>GSM48650.CEL.gz</th>\n",
       "      <th>GSM25687.CEL.gz</th>\n",
       "      <th>GSM25685.CEL.gz</th>\n",
       "      <th>GSM136549.CEL.gz</th>\n",
       "      <th>GSM25427.CEL.gz</th>\n",
       "      <th>GSM25525.CEL.gz</th>\n",
       "      <th>GSM25349.CEL.gz</th>\n",
       "      <th>GSM136727.CEL.gz</th>\n",
       "      <th>GSM25626.CEL.gz</th>\n",
       "      <th>GSM136725.CEL.gz</th>\n",
       "    </tr>\n",
       "  </thead>\n",
       "  <tbody>\n",
       "    <tr>\n",
       "      <th>1007_s_at</th>\n",
       "      <td>6.333951</td>\n",
       "      <td>5.736190</td>\n",
       "      <td>6.156754</td>\n",
       "      <td>6.513010</td>\n",
       "      <td>6.061013</td>\n",
       "      <td>6.506493</td>\n",
       "      <td>6.863426</td>\n",
       "      <td>6.369645</td>\n",
       "      <td>6.646321</td>\n",
       "      <td>5.810930</td>\n",
       "      <td>...</td>\n",
       "      <td>7.082636</td>\n",
       "      <td>6.315866</td>\n",
       "      <td>7.010165</td>\n",
       "      <td>6.460107</td>\n",
       "      <td>6.122355</td>\n",
       "      <td>6.330314</td>\n",
       "      <td>6.627014</td>\n",
       "      <td>6.133068</td>\n",
       "      <td>6.419444</td>\n",
       "      <td>6.488579</td>\n",
       "    </tr>\n",
       "    <tr>\n",
       "      <th>1053_at</th>\n",
       "      <td>7.255622</td>\n",
       "      <td>7.399993</td>\n",
       "      <td>7.491967</td>\n",
       "      <td>7.006123</td>\n",
       "      <td>7.250995</td>\n",
       "      <td>7.082581</td>\n",
       "      <td>6.842236</td>\n",
       "      <td>7.048487</td>\n",
       "      <td>7.042361</td>\n",
       "      <td>6.666625</td>\n",
       "      <td>...</td>\n",
       "      <td>6.599718</td>\n",
       "      <td>7.412731</td>\n",
       "      <td>7.274429</td>\n",
       "      <td>6.928642</td>\n",
       "      <td>7.168782</td>\n",
       "      <td>7.235648</td>\n",
       "      <td>6.939184</td>\n",
       "      <td>7.280781</td>\n",
       "      <td>6.351776</td>\n",
       "      <td>7.517410</td>\n",
       "    </tr>\n",
       "    <tr>\n",
       "      <th>117_at</th>\n",
       "      <td>5.760106</td>\n",
       "      <td>4.825169</td>\n",
       "      <td>5.039387</td>\n",
       "      <td>5.414160</td>\n",
       "      <td>5.205697</td>\n",
       "      <td>5.300078</td>\n",
       "      <td>5.099337</td>\n",
       "      <td>5.156459</td>\n",
       "      <td>5.736109</td>\n",
       "      <td>5.807496</td>\n",
       "      <td>...</td>\n",
       "      <td>6.231457</td>\n",
       "      <td>5.240717</td>\n",
       "      <td>5.275062</td>\n",
       "      <td>5.759827</td>\n",
       "      <td>5.409720</td>\n",
       "      <td>5.491938</td>\n",
       "      <td>5.113570</td>\n",
       "      <td>5.401876</td>\n",
       "      <td>5.537605</td>\n",
       "      <td>5.247190</td>\n",
       "    </tr>\n",
       "    <tr>\n",
       "      <th>121_at</th>\n",
       "      <td>6.935451</td>\n",
       "      <td>7.025210</td>\n",
       "      <td>7.543667</td>\n",
       "      <td>7.959781</td>\n",
       "      <td>7.223323</td>\n",
       "      <td>8.006816</td>\n",
       "      <td>8.102504</td>\n",
       "      <td>7.434617</td>\n",
       "      <td>7.532321</td>\n",
       "      <td>7.711461</td>\n",
       "      <td>...</td>\n",
       "      <td>8.215096</td>\n",
       "      <td>7.677593</td>\n",
       "      <td>7.923624</td>\n",
       "      <td>7.219401</td>\n",
       "      <td>7.432338</td>\n",
       "      <td>6.785174</td>\n",
       "      <td>7.833862</td>\n",
       "      <td>7.607461</td>\n",
       "      <td>7.302935</td>\n",
       "      <td>7.331864</td>\n",
       "    </tr>\n",
       "    <tr>\n",
       "      <th>1255_g_at</th>\n",
       "      <td>3.597872</td>\n",
       "      <td>3.108801</td>\n",
       "      <td>3.128269</td>\n",
       "      <td>3.364947</td>\n",
       "      <td>3.125909</td>\n",
       "      <td>3.186834</td>\n",
       "      <td>3.311022</td>\n",
       "      <td>3.092042</td>\n",
       "      <td>3.167737</td>\n",
       "      <td>2.969579</td>\n",
       "      <td>...</td>\n",
       "      <td>3.331424</td>\n",
       "      <td>3.043856</td>\n",
       "      <td>3.151900</td>\n",
       "      <td>3.132253</td>\n",
       "      <td>3.250600</td>\n",
       "      <td>2.984125</td>\n",
       "      <td>3.152269</td>\n",
       "      <td>3.225123</td>\n",
       "      <td>3.222731</td>\n",
       "      <td>3.175846</td>\n",
       "    </tr>\n",
       "  </tbody>\n",
       "</table>\n",
       "<p>5 rows × 208 columns</p>\n",
       "</div>"
      ],
      "text/plain": [
       "           GSM25581.CEL.gz  GSM25681.CEL.gz  GSM136524.CEL.gz  \\\n",
       "1007_s_at         6.333951         5.736190          6.156754   \n",
       "1053_at           7.255622         7.399993          7.491967   \n",
       "117_at            5.760106         4.825169          5.039387   \n",
       "121_at            6.935451         7.025210          7.543667   \n",
       "1255_g_at         3.597872         3.108801          3.128269   \n",
       "\n",
       "           GSM136707.CEL.gz  GSM25553.CEL.gz  GSM136676.CEL.gz  \\\n",
       "1007_s_at          6.513010         6.061013          6.506493   \n",
       "1053_at            7.006123         7.250995          7.082581   \n",
       "117_at             5.414160         5.205697          5.300078   \n",
       "121_at             7.959781         7.223323          8.006816   \n",
       "1255_g_at          3.364947         3.125909          3.186834   \n",
       "\n",
       "           GSM136711.CEL.gz  GSM136542.CEL.gz  GSM136535.CEL.gz  \\\n",
       "1007_s_at          6.863426          6.369645          6.646321   \n",
       "1053_at            6.842236          7.048487          7.042361   \n",
       "117_at             5.099337          5.156459          5.736109   \n",
       "121_at             8.102504          7.434617          7.532321   \n",
       "1255_g_at          3.311022          3.092042          3.167737   \n",
       "\n",
       "           GSM25399.CEL.gz        ...         GSM48650.CEL.gz  \\\n",
       "1007_s_at         5.810930        ...                7.082636   \n",
       "1053_at           6.666625        ...                6.599718   \n",
       "117_at            5.807496        ...                6.231457   \n",
       "121_at            7.711461        ...                8.215096   \n",
       "1255_g_at         2.969579        ...                3.331424   \n",
       "\n",
       "           GSM25687.CEL.gz  GSM25685.CEL.gz  GSM136549.CEL.gz  \\\n",
       "1007_s_at         6.315866         7.010165          6.460107   \n",
       "1053_at           7.412731         7.274429          6.928642   \n",
       "117_at            5.240717         5.275062          5.759827   \n",
       "121_at            7.677593         7.923624          7.219401   \n",
       "1255_g_at         3.043856         3.151900          3.132253   \n",
       "\n",
       "           GSM25427.CEL.gz  GSM25525.CEL.gz  GSM25349.CEL.gz  \\\n",
       "1007_s_at         6.122355         6.330314         6.627014   \n",
       "1053_at           7.168782         7.235648         6.939184   \n",
       "117_at            5.409720         5.491938         5.113570   \n",
       "121_at            7.432338         6.785174         7.833862   \n",
       "1255_g_at         3.250600         2.984125         3.152269   \n",
       "\n",
       "           GSM136727.CEL.gz  GSM25626.CEL.gz  GSM136725.CEL.gz  \n",
       "1007_s_at          6.133068         6.419444          6.488579  \n",
       "1053_at            7.280781         6.351776          7.517410  \n",
       "117_at             5.401876         5.537605          5.247190  \n",
       "121_at             7.607461         7.302935          7.331864  \n",
       "1255_g_at          3.225123         3.222731          3.175846  \n",
       "\n",
       "[5 rows x 208 columns]"
      ]
     },
     "execution_count": 3,
     "metadata": {},
     "output_type": "execute_result"
    }
   ],
   "source": [
    "exprs.head()"
   ]
  },
  {
   "cell_type": "code",
   "execution_count": 4,
   "metadata": {},
   "outputs": [
    {
     "data": {
      "text/html": [
       "<div>\n",
       "<style scoped>\n",
       "    .dataframe tbody tr th:only-of-type {\n",
       "        vertical-align: middle;\n",
       "    }\n",
       "\n",
       "    .dataframe tbody tr th {\n",
       "        vertical-align: top;\n",
       "    }\n",
       "\n",
       "    .dataframe thead th {\n",
       "        text-align: right;\n",
       "    }\n",
       "</style>\n",
       "<table border=\"1\" class=\"dataframe\">\n",
       "  <thead>\n",
       "    <tr style=\"text-align: right;\">\n",
       "      <th></th>\n",
       "      <th>ethnicity</th>\n",
       "      <th>date</th>\n",
       "      <th>filename</th>\n",
       "      <th>sex</th>\n",
       "    </tr>\n",
       "  </thead>\n",
       "  <tbody>\n",
       "    <tr>\n",
       "      <th>0</th>\n",
       "      <td>CEU</td>\n",
       "      <td>2003-02-04</td>\n",
       "      <td>GSM25349.CEL.gz</td>\n",
       "      <td>M</td>\n",
       "    </tr>\n",
       "    <tr>\n",
       "      <th>1</th>\n",
       "      <td>CEU</td>\n",
       "      <td>2003-02-04</td>\n",
       "      <td>GSM25350.CEL.gz</td>\n",
       "      <td>M</td>\n",
       "    </tr>\n",
       "    <tr>\n",
       "      <th>2</th>\n",
       "      <td>CEU</td>\n",
       "      <td>2002-12-17</td>\n",
       "      <td>GSM25356.CEL.gz</td>\n",
       "      <td>M</td>\n",
       "    </tr>\n",
       "    <tr>\n",
       "      <th>3</th>\n",
       "      <td>CEU</td>\n",
       "      <td>2003-01-30</td>\n",
       "      <td>GSM25357.CEL.gz</td>\n",
       "      <td>M</td>\n",
       "    </tr>\n",
       "    <tr>\n",
       "      <th>4</th>\n",
       "      <td>CEU</td>\n",
       "      <td>2003-01-03</td>\n",
       "      <td>GSM25358.CEL.gz</td>\n",
       "      <td>M</td>\n",
       "    </tr>\n",
       "  </tbody>\n",
       "</table>\n",
       "</div>"
      ],
      "text/plain": [
       "  ethnicity        date         filename sex\n",
       "0       CEU  2003-02-04  GSM25349.CEL.gz   M\n",
       "1       CEU  2003-02-04  GSM25350.CEL.gz   M\n",
       "2       CEU  2002-12-17  GSM25356.CEL.gz   M\n",
       "3       CEU  2003-01-30  GSM25357.CEL.gz   M\n",
       "4       CEU  2003-01-03  GSM25358.CEL.gz   M"
      ]
     },
     "execution_count": 4,
     "metadata": {},
     "output_type": "execute_result"
    }
   ],
   "source": [
    "sampleinfo.head()"
   ]
  },
  {
   "cell_type": "code",
   "execution_count": 5,
   "metadata": {},
   "outputs": [],
   "source": [
    "exprs = exprs[sampleinfo.filename.values]"
   ]
  },
  {
   "cell_type": "code",
   "execution_count": 6,
   "metadata": {},
   "outputs": [
    {
     "data": {
      "text/plain": [
       "True"
      ]
     },
     "execution_count": 6,
     "metadata": {},
     "output_type": "execute_result"
    }
   ],
   "source": [
    "(exprs.columns == sampleinfo.filename).all() "
   ]
  },
  {
   "cell_type": "markdown",
   "metadata": {},
   "source": [
    "#### Problem 1(b)\n",
    "Extract the year and month as integers from the sampleinfo table."
   ]
  },
  {
   "cell_type": "code",
   "execution_count": 7,
   "metadata": {},
   "outputs": [
    {
     "data": {
      "text/plain": [
       "ethnicity    object\n",
       "date         object\n",
       "filename     object\n",
       "sex          object\n",
       "dtype: object"
      ]
     },
     "execution_count": 7,
     "metadata": {},
     "output_type": "execute_result"
    }
   ],
   "source": [
    "sampleinfo.dtypes"
   ]
  },
  {
   "cell_type": "code",
   "execution_count": 8,
   "metadata": {},
   "outputs": [
    {
     "ename": "AttributeError",
     "evalue": "'Series' object has no attribute 'to_datetime'",
     "output_type": "error",
     "traceback": [
      "\u001b[1;31m---------------------------------------------------------------------------\u001b[0m",
      "\u001b[1;31mAttributeError\u001b[0m                            Traceback (most recent call last)",
      "\u001b[1;32m<ipython-input-8-20184a1a3515>\u001b[0m in \u001b[0;36m<module>\u001b[1;34m()\u001b[0m\n\u001b[1;32m----> 1\u001b[1;33m \u001b[0myears\u001b[0m \u001b[1;33m=\u001b[0m \u001b[0msampleinfo\u001b[0m\u001b[1;33m.\u001b[0m\u001b[0mdate\u001b[0m\u001b[1;33m.\u001b[0m\u001b[0mto_datetime\u001b[0m\u001b[1;33m(\u001b[0m\u001b[1;33m)\u001b[0m\u001b[1;33m.\u001b[0m\u001b[0mdt\u001b[0m\u001b[1;33m.\u001b[0m\u001b[0myear\u001b[0m\u001b[1;33m\u001b[0m\u001b[0m\n\u001b[0m\u001b[0;32m      2\u001b[0m \u001b[0mmonths\u001b[0m \u001b[1;33m=\u001b[0m \u001b[0msampleinfo\u001b[0m\u001b[1;33m.\u001b[0m\u001b[0mdate\u001b[0m\u001b[1;33m.\u001b[0m\u001b[0mto_datetime\u001b[0m\u001b[1;33m(\u001b[0m\u001b[1;33m)\u001b[0m\u001b[1;33m.\u001b[0m\u001b[0mdt\u001b[0m\u001b[1;33m.\u001b[0m\u001b[0mmonth\u001b[0m\u001b[1;33m\u001b[0m\u001b[0m\n",
      "\u001b[1;32mc:\\anaconda3\\lib\\site-packages\\pandas\\core\\generic.py\u001b[0m in \u001b[0;36m__getattr__\u001b[1;34m(self, name)\u001b[0m\n\u001b[0;32m   4374\u001b[0m             \u001b[1;32mif\u001b[0m \u001b[0mself\u001b[0m\u001b[1;33m.\u001b[0m\u001b[0m_info_axis\u001b[0m\u001b[1;33m.\u001b[0m\u001b[0m_can_hold_identifiers_and_holds_name\u001b[0m\u001b[1;33m(\u001b[0m\u001b[0mname\u001b[0m\u001b[1;33m)\u001b[0m\u001b[1;33m:\u001b[0m\u001b[1;33m\u001b[0m\u001b[0m\n\u001b[0;32m   4375\u001b[0m                 \u001b[1;32mreturn\u001b[0m \u001b[0mself\u001b[0m\u001b[1;33m[\u001b[0m\u001b[0mname\u001b[0m\u001b[1;33m]\u001b[0m\u001b[1;33m\u001b[0m\u001b[0m\n\u001b[1;32m-> 4376\u001b[1;33m             \u001b[1;32mreturn\u001b[0m \u001b[0mobject\u001b[0m\u001b[1;33m.\u001b[0m\u001b[0m__getattribute__\u001b[0m\u001b[1;33m(\u001b[0m\u001b[0mself\u001b[0m\u001b[1;33m,\u001b[0m \u001b[0mname\u001b[0m\u001b[1;33m)\u001b[0m\u001b[1;33m\u001b[0m\u001b[0m\n\u001b[0m\u001b[0;32m   4377\u001b[0m \u001b[1;33m\u001b[0m\u001b[0m\n\u001b[0;32m   4378\u001b[0m     \u001b[1;32mdef\u001b[0m \u001b[0m__setattr__\u001b[0m\u001b[1;33m(\u001b[0m\u001b[0mself\u001b[0m\u001b[1;33m,\u001b[0m \u001b[0mname\u001b[0m\u001b[1;33m,\u001b[0m \u001b[0mvalue\u001b[0m\u001b[1;33m)\u001b[0m\u001b[1;33m:\u001b[0m\u001b[1;33m\u001b[0m\u001b[0m\n",
      "\u001b[1;31mAttributeError\u001b[0m: 'Series' object has no attribute 'to_datetime'"
     ]
    }
   ],
   "source": [
    "years = sampleinfo.date.to_datetime().dt.year\n",
    "months = sampleinfo.date.to_datetime().dt.month"
   ]
  },
  {
   "cell_type": "code",
   "execution_count": null,
   "metadata": {},
   "outputs": [],
   "source": [
    "years"
   ]
  }
 ],
 "metadata": {
  "kernelspec": {
   "display_name": "Python 3",
   "language": "python",
   "name": "python3"
  },
  "language_info": {
   "codemirror_mode": {
    "name": "ipython",
    "version": 3
   },
   "file_extension": ".py",
   "mimetype": "text/x-python",
   "name": "python",
   "nbconvert_exporter": "python",
   "pygments_lexer": "ipython3",
   "version": "3.6.4"
  }
 },
 "nbformat": 4,
 "nbformat_minor": 2
}
